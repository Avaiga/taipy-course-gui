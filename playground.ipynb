{
 "cells": [
  {
   "cell_type": "code",
   "execution_count": 9,
   "metadata": {},
   "outputs": [],
   "source": [
    "import pandas as pd\n",
    "import plotly.graph_objects as go"
   ]
  },
  {
   "cell_type": "code",
   "execution_count": 10,
   "metadata": {},
   "outputs": [
    {
     "data": {
      "text/html": [
       "<div>\n",
       "<style scoped>\n",
       "    .dataframe tbody tr th:only-of-type {\n",
       "        vertical-align: middle;\n",
       "    }\n",
       "\n",
       "    .dataframe tbody tr th {\n",
       "        vertical-align: top;\n",
       "    }\n",
       "\n",
       "    .dataframe thead th {\n",
       "        text-align: right;\n",
       "    }\n",
       "</style>\n",
       "<table border=\"1\" class=\"dataframe\">\n",
       "  <thead>\n",
       "    <tr style=\"text-align: right;\">\n",
       "      <th></th>\n",
       "      <th>Row ID</th>\n",
       "      <th>Order ID</th>\n",
       "      <th>Order Date</th>\n",
       "      <th>Ship Date</th>\n",
       "      <th>Ship Mode</th>\n",
       "      <th>Customer ID</th>\n",
       "      <th>Customer Name</th>\n",
       "      <th>Segment</th>\n",
       "      <th>Country</th>\n",
       "      <th>City</th>\n",
       "      <th>State</th>\n",
       "      <th>Postal Code</th>\n",
       "      <th>Region</th>\n",
       "      <th>Product ID</th>\n",
       "      <th>Category</th>\n",
       "      <th>Sub-Category</th>\n",
       "      <th>Product Name</th>\n",
       "      <th>Sales</th>\n",
       "    </tr>\n",
       "  </thead>\n",
       "  <tbody>\n",
       "    <tr>\n",
       "      <th>0</th>\n",
       "      <td>1</td>\n",
       "      <td>CA-2017-152156</td>\n",
       "      <td>08/11/2017</td>\n",
       "      <td>11/11/2017</td>\n",
       "      <td>Second Class</td>\n",
       "      <td>CG-12520</td>\n",
       "      <td>Claire Gute</td>\n",
       "      <td>Consumer</td>\n",
       "      <td>United States</td>\n",
       "      <td>Henderson</td>\n",
       "      <td>Kentucky</td>\n",
       "      <td>42420.0</td>\n",
       "      <td>South</td>\n",
       "      <td>FUR-BO-10001798</td>\n",
       "      <td>Furniture</td>\n",
       "      <td>Bookcases</td>\n",
       "      <td>Bush Somerset Collection Bookcase</td>\n",
       "      <td>261.9600</td>\n",
       "    </tr>\n",
       "    <tr>\n",
       "      <th>1</th>\n",
       "      <td>2</td>\n",
       "      <td>CA-2017-152156</td>\n",
       "      <td>08/11/2017</td>\n",
       "      <td>11/11/2017</td>\n",
       "      <td>Second Class</td>\n",
       "      <td>CG-12520</td>\n",
       "      <td>Claire Gute</td>\n",
       "      <td>Consumer</td>\n",
       "      <td>United States</td>\n",
       "      <td>Henderson</td>\n",
       "      <td>Kentucky</td>\n",
       "      <td>42420.0</td>\n",
       "      <td>South</td>\n",
       "      <td>FUR-CH-10000454</td>\n",
       "      <td>Furniture</td>\n",
       "      <td>Chairs</td>\n",
       "      <td>Hon Deluxe Fabric Upholstered Stacking Chairs,...</td>\n",
       "      <td>731.9400</td>\n",
       "    </tr>\n",
       "    <tr>\n",
       "      <th>2</th>\n",
       "      <td>3</td>\n",
       "      <td>CA-2017-138688</td>\n",
       "      <td>12/06/2017</td>\n",
       "      <td>16/06/2017</td>\n",
       "      <td>Second Class</td>\n",
       "      <td>DV-13045</td>\n",
       "      <td>Darrin Van Huff</td>\n",
       "      <td>Corporate</td>\n",
       "      <td>United States</td>\n",
       "      <td>Los Angeles</td>\n",
       "      <td>California</td>\n",
       "      <td>90036.0</td>\n",
       "      <td>West</td>\n",
       "      <td>OFF-LA-10000240</td>\n",
       "      <td>Office Supplies</td>\n",
       "      <td>Labels</td>\n",
       "      <td>Self-Adhesive Address Labels for Typewriters b...</td>\n",
       "      <td>14.6200</td>\n",
       "    </tr>\n",
       "    <tr>\n",
       "      <th>3</th>\n",
       "      <td>4</td>\n",
       "      <td>US-2016-108966</td>\n",
       "      <td>11/10/2016</td>\n",
       "      <td>18/10/2016</td>\n",
       "      <td>Standard Class</td>\n",
       "      <td>SO-20335</td>\n",
       "      <td>Sean O'Donnell</td>\n",
       "      <td>Consumer</td>\n",
       "      <td>United States</td>\n",
       "      <td>Fort Lauderdale</td>\n",
       "      <td>Florida</td>\n",
       "      <td>33311.0</td>\n",
       "      <td>South</td>\n",
       "      <td>FUR-TA-10000577</td>\n",
       "      <td>Furniture</td>\n",
       "      <td>Tables</td>\n",
       "      <td>Bretford CR4500 Series Slim Rectangular Table</td>\n",
       "      <td>957.5775</td>\n",
       "    </tr>\n",
       "    <tr>\n",
       "      <th>4</th>\n",
       "      <td>5</td>\n",
       "      <td>US-2016-108966</td>\n",
       "      <td>11/10/2016</td>\n",
       "      <td>18/10/2016</td>\n",
       "      <td>Standard Class</td>\n",
       "      <td>SO-20335</td>\n",
       "      <td>Sean O'Donnell</td>\n",
       "      <td>Consumer</td>\n",
       "      <td>United States</td>\n",
       "      <td>Fort Lauderdale</td>\n",
       "      <td>Florida</td>\n",
       "      <td>33311.0</td>\n",
       "      <td>South</td>\n",
       "      <td>OFF-ST-10000760</td>\n",
       "      <td>Office Supplies</td>\n",
       "      <td>Storage</td>\n",
       "      <td>Eldon Fold 'N Roll Cart System</td>\n",
       "      <td>22.3680</td>\n",
       "    </tr>\n",
       "  </tbody>\n",
       "</table>\n",
       "</div>"
      ],
      "text/plain": [
       "   Row ID        Order ID  Order Date   Ship Date       Ship Mode Customer ID  \\\n",
       "0       1  CA-2017-152156  08/11/2017  11/11/2017    Second Class    CG-12520   \n",
       "1       2  CA-2017-152156  08/11/2017  11/11/2017    Second Class    CG-12520   \n",
       "2       3  CA-2017-138688  12/06/2017  16/06/2017    Second Class    DV-13045   \n",
       "3       4  US-2016-108966  11/10/2016  18/10/2016  Standard Class    SO-20335   \n",
       "4       5  US-2016-108966  11/10/2016  18/10/2016  Standard Class    SO-20335   \n",
       "\n",
       "     Customer Name    Segment        Country             City       State  \\\n",
       "0      Claire Gute   Consumer  United States        Henderson    Kentucky   \n",
       "1      Claire Gute   Consumer  United States        Henderson    Kentucky   \n",
       "2  Darrin Van Huff  Corporate  United States      Los Angeles  California   \n",
       "3   Sean O'Donnell   Consumer  United States  Fort Lauderdale     Florida   \n",
       "4   Sean O'Donnell   Consumer  United States  Fort Lauderdale     Florida   \n",
       "\n",
       "   Postal Code Region       Product ID         Category Sub-Category  \\\n",
       "0      42420.0  South  FUR-BO-10001798        Furniture    Bookcases   \n",
       "1      42420.0  South  FUR-CH-10000454        Furniture       Chairs   \n",
       "2      90036.0   West  OFF-LA-10000240  Office Supplies       Labels   \n",
       "3      33311.0  South  FUR-TA-10000577        Furniture       Tables   \n",
       "4      33311.0  South  OFF-ST-10000760  Office Supplies      Storage   \n",
       "\n",
       "                                        Product Name     Sales  \n",
       "0                  Bush Somerset Collection Bookcase  261.9600  \n",
       "1  Hon Deluxe Fabric Upholstered Stacking Chairs,...  731.9400  \n",
       "2  Self-Adhesive Address Labels for Typewriters b...   14.6200  \n",
       "3      Bretford CR4500 Series Slim Rectangular Table  957.5775  \n",
       "4                     Eldon Fold 'N Roll Cart System   22.3680  "
      ]
     },
     "execution_count": 10,
     "metadata": {},
     "output_type": "execute_result"
    }
   ],
   "source": [
    "# Read data.csv\n",
    "data = pd.read_csv('data.csv')\n",
    "data.head()"
   ]
  },
  {
   "cell_type": "code",
   "execution_count": 53,
   "metadata": {},
   "outputs": [
    {
     "data": {
      "application/vnd.plotly.v1+json": {
       "config": {
        "plotlyServerURL": "https://plot.ly"
       },
       "data": [
        {
         "colorbar": {
          "title": {
           "text": "Sales (USD)"
          }
         },
         "colorscale": [
          [
           0,
           "rgb(255,245,240)"
          ],
          [
           0.125,
           "rgb(254,224,210)"
          ],
          [
           0.25,
           "rgb(252,187,161)"
          ],
          [
           0.375,
           "rgb(252,146,114)"
          ],
          [
           0.5,
           "rgb(251,106,74)"
          ],
          [
           0.625,
           "rgb(239,59,44)"
          ],
          [
           0.75,
           "rgb(203,24,29)"
          ],
          [
           0.875,
           "rgb(165,15,21)"
          ],
          [
           1,
           "rgb(103,0,13)"
          ]
         ],
         "hoverinfo": "none",
         "locationmode": "USA-states",
         "locations": [
          "AL",
          "AZ",
          "AR",
          "CA",
          "CO",
          "CT",
          "DE",
          null,
          "FL",
          "GA",
          "ID",
          "IL",
          "IN",
          "IA",
          "KS",
          "KY",
          "LA",
          "ME",
          "MD",
          "MA",
          "MI",
          "MN",
          "MS",
          "MO",
          "MT",
          "NE",
          "NV",
          "NH",
          "NJ",
          "NM",
          "NY",
          "NC",
          "ND",
          "OH",
          "OK",
          "OR",
          "PA",
          "RI",
          "SC",
          "SD",
          "TN",
          "TX",
          "UT",
          "VT",
          "VA",
          "WA",
          "WV",
          "WI",
          "WY"
         ],
         "type": "choropleth",
         "z": [
          19510.64,
          35272.657,
          11678.13,
          446306.4635,
          31841.597999999998,
          13384.357,
          27322.999,
          2865.02,
          88436.532,
          48219.11,
          4382.486,
          79236.517,
          48718.4,
          4443.56,
          2914.31,
          36458.39,
          9131.05,
          1270.53,
          23705.523,
          28634.434,
          76136.074,
          29863.15,
          10771.34,
          22205.15,
          5589.352,
          7464.93,
          16729.102,
          7292.524,
          34610.972,
          4783.522,
          306361.147,
          55165.964,
          919.91,
          75130.35,
          19683.39,
          17284.462,
          116276.65,
          22525.026,
          8481.71,
          1315.56,
          30661.873,
          168572.5322,
          11220.056,
          8929.369999999999,
          70636.72,
          135206.85,
          1209.824,
          31173.43,
          1603.136
         ]
        },
        {
         "hoverinfo": "text",
         "hovertext": "Alabama<br>$19,510.64",
         "locationmode": "USA-states",
         "locations": [
          "AL"
         ],
         "mode": "text",
         "text": "AL",
         "textfont": {
          "size": 7
         },
         "type": "scattergeo"
        },
        {
         "hoverinfo": "text",
         "hovertext": "Arizona<br>$35,272.66",
         "locationmode": "USA-states",
         "locations": [
          "AZ"
         ],
         "mode": "text",
         "text": "AZ",
         "textfont": {
          "size": 7
         },
         "type": "scattergeo"
        },
        {
         "hoverinfo": "text",
         "hovertext": "Arkansas<br>$11,678.13",
         "locationmode": "USA-states",
         "locations": [
          "AR"
         ],
         "mode": "text",
         "text": "AR",
         "textfont": {
          "size": 7
         },
         "type": "scattergeo"
        },
        {
         "hoverinfo": "text",
         "hovertext": "California<br>$446,306.46",
         "locationmode": "USA-states",
         "locations": [
          "CA"
         ],
         "mode": "text",
         "text": "CA",
         "textfont": {
          "size": 7
         },
         "type": "scattergeo"
        },
        {
         "hoverinfo": "text",
         "hovertext": "Colorado<br>$31,841.60",
         "locationmode": "USA-states",
         "locations": [
          "CO"
         ],
         "mode": "text",
         "text": "CO",
         "textfont": {
          "size": 7
         },
         "type": "scattergeo"
        },
        {
         "hoverinfo": "text",
         "hovertext": "Connecticut<br>$13,384.36",
         "locationmode": "USA-states",
         "locations": [
          "CT"
         ],
         "mode": "text",
         "text": "CT",
         "textfont": {
          "size": 7
         },
         "type": "scattergeo"
        },
        {
         "hoverinfo": "text",
         "hovertext": "Delaware<br>$27,323.00",
         "locationmode": "USA-states",
         "locations": [
          "DE"
         ],
         "mode": "text",
         "text": "DE",
         "textfont": {
          "size": 7
         },
         "type": "scattergeo"
        },
        {
         "hoverinfo": "text",
         "hovertext": "District of Columbia<br>$2,865.02",
         "locationmode": "USA-states",
         "locations": [
          null
         ],
         "mode": "text",
         "text": "nan",
         "textfont": {
          "size": 7
         },
         "type": "scattergeo"
        },
        {
         "hoverinfo": "text",
         "hovertext": "Florida<br>$88,436.53",
         "locationmode": "USA-states",
         "locations": [
          "FL"
         ],
         "mode": "text",
         "text": "FL",
         "textfont": {
          "size": 7
         },
         "type": "scattergeo"
        },
        {
         "hoverinfo": "text",
         "hovertext": "Georgia<br>$48,219.11",
         "locationmode": "USA-states",
         "locations": [
          "GA"
         ],
         "mode": "text",
         "text": "GA",
         "textfont": {
          "size": 7
         },
         "type": "scattergeo"
        },
        {
         "hoverinfo": "text",
         "hovertext": "Idaho<br>$4,382.49",
         "locationmode": "USA-states",
         "locations": [
          "ID"
         ],
         "mode": "text",
         "text": "ID",
         "textfont": {
          "size": 7
         },
         "type": "scattergeo"
        },
        {
         "hoverinfo": "text",
         "hovertext": "Illinois<br>$79,236.52",
         "locationmode": "USA-states",
         "locations": [
          "IL"
         ],
         "mode": "text",
         "text": "IL",
         "textfont": {
          "size": 7
         },
         "type": "scattergeo"
        },
        {
         "hoverinfo": "text",
         "hovertext": "Indiana<br>$48,718.40",
         "locationmode": "USA-states",
         "locations": [
          "IN"
         ],
         "mode": "text",
         "text": "IN",
         "textfont": {
          "size": 7
         },
         "type": "scattergeo"
        },
        {
         "hoverinfo": "text",
         "hovertext": "Iowa<br>$4,443.56",
         "locationmode": "USA-states",
         "locations": [
          "IA"
         ],
         "mode": "text",
         "text": "IA",
         "textfont": {
          "size": 7
         },
         "type": "scattergeo"
        },
        {
         "hoverinfo": "text",
         "hovertext": "Kansas<br>$2,914.31",
         "locationmode": "USA-states",
         "locations": [
          "KS"
         ],
         "mode": "text",
         "text": "KS",
         "textfont": {
          "size": 7
         },
         "type": "scattergeo"
        },
        {
         "hoverinfo": "text",
         "hovertext": "Kentucky<br>$36,458.39",
         "locationmode": "USA-states",
         "locations": [
          "KY"
         ],
         "mode": "text",
         "text": "KY",
         "textfont": {
          "size": 7
         },
         "type": "scattergeo"
        },
        {
         "hoverinfo": "text",
         "hovertext": "Louisiana<br>$9,131.05",
         "locationmode": "USA-states",
         "locations": [
          "LA"
         ],
         "mode": "text",
         "text": "LA",
         "textfont": {
          "size": 7
         },
         "type": "scattergeo"
        },
        {
         "hoverinfo": "text",
         "hovertext": "Maine<br>$1,270.53",
         "locationmode": "USA-states",
         "locations": [
          "ME"
         ],
         "mode": "text",
         "text": "ME",
         "textfont": {
          "size": 7
         },
         "type": "scattergeo"
        },
        {
         "hoverinfo": "text",
         "hovertext": "Maryland<br>$23,705.52",
         "locationmode": "USA-states",
         "locations": [
          "MD"
         ],
         "mode": "text",
         "text": "MD",
         "textfont": {
          "size": 7
         },
         "type": "scattergeo"
        },
        {
         "hoverinfo": "text",
         "hovertext": "Massachusetts<br>$28,634.43",
         "locationmode": "USA-states",
         "locations": [
          "MA"
         ],
         "mode": "text",
         "text": "MA",
         "textfont": {
          "size": 7
         },
         "type": "scattergeo"
        },
        {
         "hoverinfo": "text",
         "hovertext": "Michigan<br>$76,136.07",
         "locationmode": "USA-states",
         "locations": [
          "MI"
         ],
         "mode": "text",
         "text": "MI",
         "textfont": {
          "size": 7
         },
         "type": "scattergeo"
        },
        {
         "hoverinfo": "text",
         "hovertext": "Minnesota<br>$29,863.15",
         "locationmode": "USA-states",
         "locations": [
          "MN"
         ],
         "mode": "text",
         "text": "MN",
         "textfont": {
          "size": 7
         },
         "type": "scattergeo"
        },
        {
         "hoverinfo": "text",
         "hovertext": "Mississippi<br>$10,771.34",
         "locationmode": "USA-states",
         "locations": [
          "MS"
         ],
         "mode": "text",
         "text": "MS",
         "textfont": {
          "size": 7
         },
         "type": "scattergeo"
        },
        {
         "hoverinfo": "text",
         "hovertext": "Missouri<br>$22,205.15",
         "locationmode": "USA-states",
         "locations": [
          "MO"
         ],
         "mode": "text",
         "text": "MO",
         "textfont": {
          "size": 7
         },
         "type": "scattergeo"
        },
        {
         "hoverinfo": "text",
         "hovertext": "Montana<br>$5,589.35",
         "locationmode": "USA-states",
         "locations": [
          "MT"
         ],
         "mode": "text",
         "text": "MT",
         "textfont": {
          "size": 7
         },
         "type": "scattergeo"
        },
        {
         "hoverinfo": "text",
         "hovertext": "Nebraska<br>$7,464.93",
         "locationmode": "USA-states",
         "locations": [
          "NE"
         ],
         "mode": "text",
         "text": "NE",
         "textfont": {
          "size": 7
         },
         "type": "scattergeo"
        },
        {
         "hoverinfo": "text",
         "hovertext": "Nevada<br>$16,729.10",
         "locationmode": "USA-states",
         "locations": [
          "NV"
         ],
         "mode": "text",
         "text": "NV",
         "textfont": {
          "size": 7
         },
         "type": "scattergeo"
        },
        {
         "hoverinfo": "text",
         "hovertext": "New Hampshire<br>$7,292.52",
         "locationmode": "USA-states",
         "locations": [
          "NH"
         ],
         "mode": "text",
         "text": "NH",
         "textfont": {
          "size": 7
         },
         "type": "scattergeo"
        },
        {
         "hoverinfo": "text",
         "hovertext": "New Jersey<br>$34,610.97",
         "locationmode": "USA-states",
         "locations": [
          "NJ"
         ],
         "mode": "text",
         "text": "NJ",
         "textfont": {
          "size": 7
         },
         "type": "scattergeo"
        },
        {
         "hoverinfo": "text",
         "hovertext": "New Mexico<br>$4,783.52",
         "locationmode": "USA-states",
         "locations": [
          "NM"
         ],
         "mode": "text",
         "text": "NM",
         "textfont": {
          "size": 7
         },
         "type": "scattergeo"
        },
        {
         "hoverinfo": "text",
         "hovertext": "New York<br>$306,361.15",
         "locationmode": "USA-states",
         "locations": [
          "NY"
         ],
         "mode": "text",
         "text": "NY",
         "textfont": {
          "size": 7
         },
         "type": "scattergeo"
        },
        {
         "hoverinfo": "text",
         "hovertext": "North Carolina<br>$55,165.96",
         "locationmode": "USA-states",
         "locations": [
          "NC"
         ],
         "mode": "text",
         "text": "NC",
         "textfont": {
          "size": 7
         },
         "type": "scattergeo"
        },
        {
         "hoverinfo": "text",
         "hovertext": "North Dakota<br>$919.91",
         "locationmode": "USA-states",
         "locations": [
          "ND"
         ],
         "mode": "text",
         "text": "ND",
         "textfont": {
          "size": 7
         },
         "type": "scattergeo"
        },
        {
         "hoverinfo": "text",
         "hovertext": "Ohio<br>$75,130.35",
         "locationmode": "USA-states",
         "locations": [
          "OH"
         ],
         "mode": "text",
         "text": "OH",
         "textfont": {
          "size": 7
         },
         "type": "scattergeo"
        },
        {
         "hoverinfo": "text",
         "hovertext": "Oklahoma<br>$19,683.39",
         "locationmode": "USA-states",
         "locations": [
          "OK"
         ],
         "mode": "text",
         "text": "OK",
         "textfont": {
          "size": 7
         },
         "type": "scattergeo"
        },
        {
         "hoverinfo": "text",
         "hovertext": "Oregon<br>$17,284.46",
         "locationmode": "USA-states",
         "locations": [
          "OR"
         ],
         "mode": "text",
         "text": "OR",
         "textfont": {
          "size": 7
         },
         "type": "scattergeo"
        },
        {
         "hoverinfo": "text",
         "hovertext": "Pennsylvania<br>$116,276.65",
         "locationmode": "USA-states",
         "locations": [
          "PA"
         ],
         "mode": "text",
         "text": "PA",
         "textfont": {
          "size": 7
         },
         "type": "scattergeo"
        },
        {
         "hoverinfo": "text",
         "hovertext": "Rhode Island<br>$22,525.03",
         "locationmode": "USA-states",
         "locations": [
          "RI"
         ],
         "mode": "text",
         "text": "RI",
         "textfont": {
          "size": 7
         },
         "type": "scattergeo"
        },
        {
         "hoverinfo": "text",
         "hovertext": "South Carolina<br>$8,481.71",
         "locationmode": "USA-states",
         "locations": [
          "SC"
         ],
         "mode": "text",
         "text": "SC",
         "textfont": {
          "size": 7
         },
         "type": "scattergeo"
        },
        {
         "hoverinfo": "text",
         "hovertext": "South Dakota<br>$1,315.56",
         "locationmode": "USA-states",
         "locations": [
          "SD"
         ],
         "mode": "text",
         "text": "SD",
         "textfont": {
          "size": 7
         },
         "type": "scattergeo"
        },
        {
         "hoverinfo": "text",
         "hovertext": "Tennessee<br>$30,661.87",
         "locationmode": "USA-states",
         "locations": [
          "TN"
         ],
         "mode": "text",
         "text": "TN",
         "textfont": {
          "size": 7
         },
         "type": "scattergeo"
        },
        {
         "hoverinfo": "text",
         "hovertext": "Texas<br>$168,572.53",
         "locationmode": "USA-states",
         "locations": [
          "TX"
         ],
         "mode": "text",
         "text": "TX",
         "textfont": {
          "size": 7
         },
         "type": "scattergeo"
        },
        {
         "hoverinfo": "text",
         "hovertext": "Utah<br>$11,220.06",
         "locationmode": "USA-states",
         "locations": [
          "UT"
         ],
         "mode": "text",
         "text": "UT",
         "textfont": {
          "size": 7
         },
         "type": "scattergeo"
        },
        {
         "hoverinfo": "text",
         "hovertext": "Vermont<br>$8,929.37",
         "locationmode": "USA-states",
         "locations": [
          "VT"
         ],
         "mode": "text",
         "text": "VT",
         "textfont": {
          "size": 7
         },
         "type": "scattergeo"
        },
        {
         "hoverinfo": "text",
         "hovertext": "Virginia<br>$70,636.72",
         "locationmode": "USA-states",
         "locations": [
          "VA"
         ],
         "mode": "text",
         "text": "VA",
         "textfont": {
          "size": 7
         },
         "type": "scattergeo"
        },
        {
         "hoverinfo": "text",
         "hovertext": "Washington<br>$135,206.85",
         "locationmode": "USA-states",
         "locations": [
          "WA"
         ],
         "mode": "text",
         "text": "WA",
         "textfont": {
          "size": 7
         },
         "type": "scattergeo"
        },
        {
         "hoverinfo": "text",
         "hovertext": "West Virginia<br>$1,209.82",
         "locationmode": "USA-states",
         "locations": [
          "WV"
         ],
         "mode": "text",
         "text": "WV",
         "textfont": {
          "size": 7
         },
         "type": "scattergeo"
        },
        {
         "hoverinfo": "text",
         "hovertext": "Wisconsin<br>$31,173.43",
         "locationmode": "USA-states",
         "locations": [
          "WI"
         ],
         "mode": "text",
         "text": "WI",
         "textfont": {
          "size": 7
         },
         "type": "scattergeo"
        },
        {
         "hoverinfo": "text",
         "hovertext": "Wyoming<br>$1,603.14",
         "locationmode": "USA-states",
         "locations": [
          "WY"
         ],
         "mode": "text",
         "text": "WY",
         "textfont": {
          "size": 7
         },
         "type": "scattergeo"
        }
       ],
       "layout": {
        "geo": {
         "scope": "usa"
        },
        "showlegend": false,
        "template": {
         "data": {
          "bar": [
           {
            "error_x": {
             "color": "#2a3f5f"
            },
            "error_y": {
             "color": "#2a3f5f"
            },
            "marker": {
             "line": {
              "color": "#E5ECF6",
              "width": 0.5
             },
             "pattern": {
              "fillmode": "overlay",
              "size": 10,
              "solidity": 0.2
             }
            },
            "type": "bar"
           }
          ],
          "barpolar": [
           {
            "marker": {
             "line": {
              "color": "#E5ECF6",
              "width": 0.5
             },
             "pattern": {
              "fillmode": "overlay",
              "size": 10,
              "solidity": 0.2
             }
            },
            "type": "barpolar"
           }
          ],
          "carpet": [
           {
            "aaxis": {
             "endlinecolor": "#2a3f5f",
             "gridcolor": "white",
             "linecolor": "white",
             "minorgridcolor": "white",
             "startlinecolor": "#2a3f5f"
            },
            "baxis": {
             "endlinecolor": "#2a3f5f",
             "gridcolor": "white",
             "linecolor": "white",
             "minorgridcolor": "white",
             "startlinecolor": "#2a3f5f"
            },
            "type": "carpet"
           }
          ],
          "choropleth": [
           {
            "colorbar": {
             "outlinewidth": 0,
             "ticks": ""
            },
            "type": "choropleth"
           }
          ],
          "contour": [
           {
            "colorbar": {
             "outlinewidth": 0,
             "ticks": ""
            },
            "colorscale": [
             [
              0,
              "#0d0887"
             ],
             [
              0.1111111111111111,
              "#46039f"
             ],
             [
              0.2222222222222222,
              "#7201a8"
             ],
             [
              0.3333333333333333,
              "#9c179e"
             ],
             [
              0.4444444444444444,
              "#bd3786"
             ],
             [
              0.5555555555555556,
              "#d8576b"
             ],
             [
              0.6666666666666666,
              "#ed7953"
             ],
             [
              0.7777777777777778,
              "#fb9f3a"
             ],
             [
              0.8888888888888888,
              "#fdca26"
             ],
             [
              1,
              "#f0f921"
             ]
            ],
            "type": "contour"
           }
          ],
          "contourcarpet": [
           {
            "colorbar": {
             "outlinewidth": 0,
             "ticks": ""
            },
            "type": "contourcarpet"
           }
          ],
          "heatmap": [
           {
            "colorbar": {
             "outlinewidth": 0,
             "ticks": ""
            },
            "colorscale": [
             [
              0,
              "#0d0887"
             ],
             [
              0.1111111111111111,
              "#46039f"
             ],
             [
              0.2222222222222222,
              "#7201a8"
             ],
             [
              0.3333333333333333,
              "#9c179e"
             ],
             [
              0.4444444444444444,
              "#bd3786"
             ],
             [
              0.5555555555555556,
              "#d8576b"
             ],
             [
              0.6666666666666666,
              "#ed7953"
             ],
             [
              0.7777777777777778,
              "#fb9f3a"
             ],
             [
              0.8888888888888888,
              "#fdca26"
             ],
             [
              1,
              "#f0f921"
             ]
            ],
            "type": "heatmap"
           }
          ],
          "heatmapgl": [
           {
            "colorbar": {
             "outlinewidth": 0,
             "ticks": ""
            },
            "colorscale": [
             [
              0,
              "#0d0887"
             ],
             [
              0.1111111111111111,
              "#46039f"
             ],
             [
              0.2222222222222222,
              "#7201a8"
             ],
             [
              0.3333333333333333,
              "#9c179e"
             ],
             [
              0.4444444444444444,
              "#bd3786"
             ],
             [
              0.5555555555555556,
              "#d8576b"
             ],
             [
              0.6666666666666666,
              "#ed7953"
             ],
             [
              0.7777777777777778,
              "#fb9f3a"
             ],
             [
              0.8888888888888888,
              "#fdca26"
             ],
             [
              1,
              "#f0f921"
             ]
            ],
            "type": "heatmapgl"
           }
          ],
          "histogram": [
           {
            "marker": {
             "pattern": {
              "fillmode": "overlay",
              "size": 10,
              "solidity": 0.2
             }
            },
            "type": "histogram"
           }
          ],
          "histogram2d": [
           {
            "colorbar": {
             "outlinewidth": 0,
             "ticks": ""
            },
            "colorscale": [
             [
              0,
              "#0d0887"
             ],
             [
              0.1111111111111111,
              "#46039f"
             ],
             [
              0.2222222222222222,
              "#7201a8"
             ],
             [
              0.3333333333333333,
              "#9c179e"
             ],
             [
              0.4444444444444444,
              "#bd3786"
             ],
             [
              0.5555555555555556,
              "#d8576b"
             ],
             [
              0.6666666666666666,
              "#ed7953"
             ],
             [
              0.7777777777777778,
              "#fb9f3a"
             ],
             [
              0.8888888888888888,
              "#fdca26"
             ],
             [
              1,
              "#f0f921"
             ]
            ],
            "type": "histogram2d"
           }
          ],
          "histogram2dcontour": [
           {
            "colorbar": {
             "outlinewidth": 0,
             "ticks": ""
            },
            "colorscale": [
             [
              0,
              "#0d0887"
             ],
             [
              0.1111111111111111,
              "#46039f"
             ],
             [
              0.2222222222222222,
              "#7201a8"
             ],
             [
              0.3333333333333333,
              "#9c179e"
             ],
             [
              0.4444444444444444,
              "#bd3786"
             ],
             [
              0.5555555555555556,
              "#d8576b"
             ],
             [
              0.6666666666666666,
              "#ed7953"
             ],
             [
              0.7777777777777778,
              "#fb9f3a"
             ],
             [
              0.8888888888888888,
              "#fdca26"
             ],
             [
              1,
              "#f0f921"
             ]
            ],
            "type": "histogram2dcontour"
           }
          ],
          "mesh3d": [
           {
            "colorbar": {
             "outlinewidth": 0,
             "ticks": ""
            },
            "type": "mesh3d"
           }
          ],
          "parcoords": [
           {
            "line": {
             "colorbar": {
              "outlinewidth": 0,
              "ticks": ""
             }
            },
            "type": "parcoords"
           }
          ],
          "pie": [
           {
            "automargin": true,
            "type": "pie"
           }
          ],
          "scatter": [
           {
            "fillpattern": {
             "fillmode": "overlay",
             "size": 10,
             "solidity": 0.2
            },
            "type": "scatter"
           }
          ],
          "scatter3d": [
           {
            "line": {
             "colorbar": {
              "outlinewidth": 0,
              "ticks": ""
             }
            },
            "marker": {
             "colorbar": {
              "outlinewidth": 0,
              "ticks": ""
             }
            },
            "type": "scatter3d"
           }
          ],
          "scattercarpet": [
           {
            "marker": {
             "colorbar": {
              "outlinewidth": 0,
              "ticks": ""
             }
            },
            "type": "scattercarpet"
           }
          ],
          "scattergeo": [
           {
            "marker": {
             "colorbar": {
              "outlinewidth": 0,
              "ticks": ""
             }
            },
            "type": "scattergeo"
           }
          ],
          "scattergl": [
           {
            "marker": {
             "colorbar": {
              "outlinewidth": 0,
              "ticks": ""
             }
            },
            "type": "scattergl"
           }
          ],
          "scattermapbox": [
           {
            "marker": {
             "colorbar": {
              "outlinewidth": 0,
              "ticks": ""
             }
            },
            "type": "scattermapbox"
           }
          ],
          "scatterpolar": [
           {
            "marker": {
             "colorbar": {
              "outlinewidth": 0,
              "ticks": ""
             }
            },
            "type": "scatterpolar"
           }
          ],
          "scatterpolargl": [
           {
            "marker": {
             "colorbar": {
              "outlinewidth": 0,
              "ticks": ""
             }
            },
            "type": "scatterpolargl"
           }
          ],
          "scatterternary": [
           {
            "marker": {
             "colorbar": {
              "outlinewidth": 0,
              "ticks": ""
             }
            },
            "type": "scatterternary"
           }
          ],
          "surface": [
           {
            "colorbar": {
             "outlinewidth": 0,
             "ticks": ""
            },
            "colorscale": [
             [
              0,
              "#0d0887"
             ],
             [
              0.1111111111111111,
              "#46039f"
             ],
             [
              0.2222222222222222,
              "#7201a8"
             ],
             [
              0.3333333333333333,
              "#9c179e"
             ],
             [
              0.4444444444444444,
              "#bd3786"
             ],
             [
              0.5555555555555556,
              "#d8576b"
             ],
             [
              0.6666666666666666,
              "#ed7953"
             ],
             [
              0.7777777777777778,
              "#fb9f3a"
             ],
             [
              0.8888888888888888,
              "#fdca26"
             ],
             [
              1,
              "#f0f921"
             ]
            ],
            "type": "surface"
           }
          ],
          "table": [
           {
            "cells": {
             "fill": {
              "color": "#EBF0F8"
             },
             "line": {
              "color": "white"
             }
            },
            "header": {
             "fill": {
              "color": "#C8D4E3"
             },
             "line": {
              "color": "white"
             }
            },
            "type": "table"
           }
          ]
         },
         "layout": {
          "annotationdefaults": {
           "arrowcolor": "#2a3f5f",
           "arrowhead": 0,
           "arrowwidth": 1
          },
          "autotypenumbers": "strict",
          "coloraxis": {
           "colorbar": {
            "outlinewidth": 0,
            "ticks": ""
           }
          },
          "colorscale": {
           "diverging": [
            [
             0,
             "#8e0152"
            ],
            [
             0.1,
             "#c51b7d"
            ],
            [
             0.2,
             "#de77ae"
            ],
            [
             0.3,
             "#f1b6da"
            ],
            [
             0.4,
             "#fde0ef"
            ],
            [
             0.5,
             "#f7f7f7"
            ],
            [
             0.6,
             "#e6f5d0"
            ],
            [
             0.7,
             "#b8e186"
            ],
            [
             0.8,
             "#7fbc41"
            ],
            [
             0.9,
             "#4d9221"
            ],
            [
             1,
             "#276419"
            ]
           ],
           "sequential": [
            [
             0,
             "#0d0887"
            ],
            [
             0.1111111111111111,
             "#46039f"
            ],
            [
             0.2222222222222222,
             "#7201a8"
            ],
            [
             0.3333333333333333,
             "#9c179e"
            ],
            [
             0.4444444444444444,
             "#bd3786"
            ],
            [
             0.5555555555555556,
             "#d8576b"
            ],
            [
             0.6666666666666666,
             "#ed7953"
            ],
            [
             0.7777777777777778,
             "#fb9f3a"
            ],
            [
             0.8888888888888888,
             "#fdca26"
            ],
            [
             1,
             "#f0f921"
            ]
           ],
           "sequentialminus": [
            [
             0,
             "#0d0887"
            ],
            [
             0.1111111111111111,
             "#46039f"
            ],
            [
             0.2222222222222222,
             "#7201a8"
            ],
            [
             0.3333333333333333,
             "#9c179e"
            ],
            [
             0.4444444444444444,
             "#bd3786"
            ],
            [
             0.5555555555555556,
             "#d8576b"
            ],
            [
             0.6666666666666666,
             "#ed7953"
            ],
            [
             0.7777777777777778,
             "#fb9f3a"
            ],
            [
             0.8888888888888888,
             "#fdca26"
            ],
            [
             1,
             "#f0f921"
            ]
           ]
          },
          "colorway": [
           "#636efa",
           "#EF553B",
           "#00cc96",
           "#ab63fa",
           "#FFA15A",
           "#19d3f3",
           "#FF6692",
           "#B6E880",
           "#FF97FF",
           "#FECB52"
          ],
          "font": {
           "color": "#2a3f5f"
          },
          "geo": {
           "bgcolor": "white",
           "lakecolor": "white",
           "landcolor": "#E5ECF6",
           "showlakes": true,
           "showland": true,
           "subunitcolor": "white"
          },
          "hoverlabel": {
           "align": "left"
          },
          "hovermode": "closest",
          "mapbox": {
           "style": "light"
          },
          "paper_bgcolor": "white",
          "plot_bgcolor": "#E5ECF6",
          "polar": {
           "angularaxis": {
            "gridcolor": "white",
            "linecolor": "white",
            "ticks": ""
           },
           "bgcolor": "#E5ECF6",
           "radialaxis": {
            "gridcolor": "white",
            "linecolor": "white",
            "ticks": ""
           }
          },
          "scene": {
           "xaxis": {
            "backgroundcolor": "#E5ECF6",
            "gridcolor": "white",
            "gridwidth": 2,
            "linecolor": "white",
            "showbackground": true,
            "ticks": "",
            "zerolinecolor": "white"
           },
           "yaxis": {
            "backgroundcolor": "#E5ECF6",
            "gridcolor": "white",
            "gridwidth": 2,
            "linecolor": "white",
            "showbackground": true,
            "ticks": "",
            "zerolinecolor": "white"
           },
           "zaxis": {
            "backgroundcolor": "#E5ECF6",
            "gridcolor": "white",
            "gridwidth": 2,
            "linecolor": "white",
            "showbackground": true,
            "ticks": "",
            "zerolinecolor": "white"
           }
          },
          "shapedefaults": {
           "line": {
            "color": "#2a3f5f"
           }
          },
          "ternary": {
           "aaxis": {
            "gridcolor": "white",
            "linecolor": "white",
            "ticks": ""
           },
           "baxis": {
            "gridcolor": "white",
            "linecolor": "white",
            "ticks": ""
           },
           "bgcolor": "#E5ECF6",
           "caxis": {
            "gridcolor": "white",
            "linecolor": "white",
            "ticks": ""
           }
          },
          "title": {
           "x": 0.05
          },
          "xaxis": {
           "automargin": true,
           "gridcolor": "white",
           "linecolor": "white",
           "ticks": "",
           "title": {
            "standoff": 15
           },
           "zerolinecolor": "white",
           "zerolinewidth": 2
          },
          "yaxis": {
           "automargin": true,
           "gridcolor": "white",
           "linecolor": "white",
           "ticks": "",
           "title": {
            "standoff": 15
           },
           "zerolinecolor": "white",
           "zerolinewidth": 2
          }
         }
        },
        "title": {
         "text": "Sales by State"
        }
       }
      }
     },
     "metadata": {},
     "output_type": "display_data"
    }
   ],
   "source": [
    "# Create a choropleth map of sales by state using plotly\n",
    "# Convert map_data['State'] from California to CA\n",
    "state_codes = {\n",
    "    'Alabama': 'AL',\n",
    "    'Alaska': 'AK',\n",
    "    'Arizona': 'AZ',\n",
    "    'Arkansas': 'AR',\n",
    "    'California': 'CA',\n",
    "    'Colorado': 'CO',\n",
    "    'Connecticut': 'CT',\n",
    "    'Delaware': 'DE',\n",
    "    'Florida': 'FL',\n",
    "    'Georgia': 'GA',\n",
    "    'Hawaii': 'HI',\n",
    "    'Idaho': 'ID',\n",
    "    'Illinois': 'IL',\n",
    "    'Indiana': 'IN',\n",
    "    'Iowa': 'IA',\n",
    "    'Kansas': 'KS',\n",
    "    'Kentucky': 'KY',\n",
    "    'Louisiana': 'LA',\n",
    "    'Maine': 'ME',\n",
    "    'Maryland': 'MD',\n",
    "    'Massachusetts': 'MA',\n",
    "    'Michigan': 'MI',\n",
    "    'Minnesota': 'MN',\n",
    "    'Mississippi': 'MS',\n",
    "    'Missouri': 'MO',\n",
    "    'Montana': 'MT',\n",
    "    'Nebraska': 'NE',\n",
    "    'Nevada': 'NV',\n",
    "    'New Hampshire': 'NH',\n",
    "    'New Jersey': 'NJ',\n",
    "    'New Mexico': 'NM',\n",
    "    'New York': 'NY',\n",
    "    'North Carolina': 'NC',\n",
    "    'North Dakota': 'ND',\n",
    "    'Ohio': 'OH',\n",
    "    'Oklahoma': 'OK',\n",
    "    'Oregon': 'OR',\n",
    "    'Pennsylvania': 'PA',\n",
    "    'Rhode Island': 'RI',\n",
    "    'South Carolina': 'SC',\n",
    "    'South Dakota': 'SD',\n",
    "    'Tennessee': 'TN',\n",
    "    'Texas': 'TX',\n",
    "    'Utah': 'UT',\n",
    "    'Vermont': 'VT',\n",
    "    'Virginia': 'VA',\n",
    "    'Washington': 'WA',\n",
    "    'West Virginia': 'WV',\n",
    "    'Wisconsin': 'WI',\n",
    "    'Wyoming': 'WY',\n",
    "}\n",
    "\n",
    "map_data = data.groupby(\"State\")[\"Sales\"].sum().reset_index()\n",
    "map_data['text'] = map_data['State'] + '<br>' + 'Sales: $' + map_data['Sales'].astype(str)\n",
    "map_data['codes'] = map_data['State'].map(state_codes)\n",
    "\n",
    "fig = go.Figure(data=go.Choropleth(\n",
    "    locations=map_data['codes'], # Spatial coordinates\n",
    "    z = map_data['Sales'].astype(float), # Data to be color-coded\n",
    "    locationmode = 'USA-states', # set of locations match entries in `locations`\n",
    "    colorscale = 'Reds',\n",
    "    colorbar_title = \"Sales (USD)\",\n",
    "    hoverinfo='none' # hide hoverinfo\n",
    "))\n",
    "\n",
    "# Annotate\n",
    "for i, row in map_data.iterrows():\n",
    "    fig.add_trace(go.Scattergeo(\n",
    "        locationmode='USA-states',\n",
    "        locations=[row['codes']],\n",
    "        text=f\"{row['codes']}\",\n",
    "        hovertext=f\"{row['State']}<br>${row['Sales']:,.2f}\",\n",
    "        hoverinfo='text',\n",
    "        mode='text',\n",
    "        textfont=dict(\n",
    "            size=7\n",
    "            ),\n",
    "    ))\n",
    "\n",
    "fig.update_layout(\n",
    "    title_text = 'Sales by State',\n",
    "    geo_scope='usa', # limit map scope to USA\n",
    "    showlegend=False,\n",
    ")\n",
    "\n",
    "\n",
    "fig.show()"
   ]
  },
  {
   "cell_type": "code",
   "execution_count": 14,
   "metadata": {},
   "outputs": [
    {
     "data": {
      "text/plain": [
       "array(['Furniture', 'Office Supplies', 'Technology'], dtype=object)"
      ]
     },
     "execution_count": 14,
     "metadata": {},
     "output_type": "execute_result"
    }
   ],
   "source": [
    "# Categories\n",
    "import numpy as np\n",
    "\n",
    "categories = np.unique(data['Category'])\n",
    "categories"
   ]
  }
 ],
 "metadata": {
  "kernelspec": {
   "display_name": "venv",
   "language": "python",
   "name": "python3"
  },
  "language_info": {
   "codemirror_mode": {
    "name": "ipython",
    "version": 3
   },
   "file_extension": ".py",
   "mimetype": "text/x-python",
   "name": "python",
   "nbconvert_exporter": "python",
   "pygments_lexer": "ipython3",
   "version": "3.11.5"
  }
 },
 "nbformat": 4,
 "nbformat_minor": 2
}
